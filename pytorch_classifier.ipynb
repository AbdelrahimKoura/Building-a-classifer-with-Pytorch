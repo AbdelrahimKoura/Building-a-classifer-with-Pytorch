{
  "nbformat": 4,
  "nbformat_minor": 0,
  "metadata": {
    "colab": {
      "name": "pytorch classifier.ipynb",
      "version": "0.3.2",
      "provenance": [],
      "collapsed_sections": [],
      "include_colab_link": true
    },
    "kernelspec": {
      "name": "python3",
      "display_name": "Python 3"
    }
  },
  "cells": [
    {
      "cell_type": "markdown",
      "metadata": {
        "id": "view-in-github",
        "colab_type": "text"
      },
      "source": [
        "<a href=\"https://colab.research.google.com/github/Shaam93/Building-a-classifer-with-Pytorch/blob/master/pytorch_classifier.ipynb\" target=\"_parent\"><img src=\"https://colab.research.google.com/assets/colab-badge.svg\" alt=\"Open In Colab\"/></a>"
      ]
    },
    {
      "metadata": {
        "id": "XVykIbuU0CeU",
        "colab_type": "text"
      },
      "cell_type": "markdown",
      "source": [
        "First as usual we import the libraries we need for our classifier\n",
        "(we just need to unstall torch and pillow)"
      ]
    },
    {
      "metadata": {
        "id": "4PW58dr6pOKx",
        "colab_type": "code",
        "colab": {}
      },
      "cell_type": "code",
      "source": [
        "#P.s: Please note that few days after this video was published the Pytorch version 1.0 was launched and is currently stable and fully functional,\n",
        "#by simply not specifying the version you need of torch you will get the latest torch version :)\n",
        "#!pip install torch==0.4.0 torchvision\n",
        "!pip install torch torchvision\n",
        "import torch\n",
        "print (\"current pytorch version is: \", torch.__version__)\n",
        "# we need pillow version of 5.3.0\n",
        "import PIL\n",
        "# so we uninstall the older version first\n",
        "!pip uninstall -y Pillow\n",
        "# then install the new one\n",
        "!pip install Pillow==5.3.0"
      ],
      "execution_count": 0,
      "outputs": []
    },
    {
      "metadata": {
        "id": "dRYJdPNcr6sW",
        "colab_type": "code",
        "colab": {}
      },
      "cell_type": "code",
      "source": [
        "import time\n",
        "import json\n",
        "import copy\n",
        "from PIL import Image\n",
        "import numpy as np\n",
        "import torch.nn.functional as F\n",
        "from torch.autograd import Variable\n",
        "from torch import nn, optim\n",
        "from torch.optim import lr_scheduler\n",
        "from torchvision import transforms, models, datasets\n",
        "print (\"done importing\")\n"
      ],
      "execution_count": 0,
      "outputs": []
    },
    {
      "metadata": {
        "id": "yOdDnQ1KnN3I",
        "colab_type": "text"
      },
      "cell_type": "markdown",
      "source": [
        "Getting the flowers data using a URL link"
      ]
    },
    {
      "metadata": {
        "id": "PMvl0ZXoqB3z",
        "colab_type": "code",
        "colab": {}
      },
      "cell_type": "code",
      "source": [
        "!wget -cq https://github.com/udacity/pytorch_challenge/raw/master/cat_to_name.json\n",
        "!wget -cq https://s3.amazonaws.com/content.udacity-data.com/nd089/flower_data.tar.gz"
      ],
      "execution_count": 0,
      "outputs": []
    },
    {
      "metadata": {
        "id": "PHe_UEhDnU6S",
        "colab_type": "text"
      },
      "cell_type": "markdown",
      "source": [
        "Unzipping flower_data.tar.gz"
      ]
    },
    {
      "metadata": {
        "id": "5GrV8LFBql-V",
        "colab_type": "code",
        "colab": {}
      },
      "cell_type": "code",
      "source": [
        "import tarfile\n",
        "tar = tarfile.open(\"flower_data.tar.gz\")\n",
        "tar.extractall()\n",
        "tar.close()"
      ],
      "execution_count": 0,
      "outputs": []
    },
    {
      "metadata": {
        "id": "AGfBcnRjnae_",
        "colab_type": "text"
      },
      "cell_type": "markdown",
      "source": [
        "Removing flower_data.tar.gz because we now have the unzipped data"
      ]
    },
    {
      "metadata": {
        "id": "uNKbBcLtqtd2",
        "colab_type": "code",
        "colab": {}
      },
      "cell_type": "code",
      "source": [
        "!rm -r flower_data.tar.gz"
      ],
      "execution_count": 0,
      "outputs": []
    }
  ]
}